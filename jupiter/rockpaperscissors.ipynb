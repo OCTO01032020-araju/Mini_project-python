{
 "cells": [
  {
   "cell_type": "code",
   "execution_count": 1,
   "metadata": {},
   "outputs": [
    {
     "name": "stdout",
     "output_type": "stream",
     "text": [
      "choose your option R for Rock , P for paper and S for scissorsR\n",
      "choose your option R for Rock , P for paper and S for scissorss\n",
      "s\n"
     ]
    }
   ],
   "source": [
    "#rock paper scissors\n",
    "\n",
    "player1 = input(\"player 1 plz choose your option R for Rock , P for paper and S for scissors\")\n",
    "player2 = input(\"palyer2 plz choose your option R for Rock , P for paper and S for scissors\")\n",
    "winner = None\n",
    "game_on = True\n",
    "\n",
    "if player1 == \"R\" or player1 == \"r\" and player2 == \"P\" or player2 == \"p\":\n",
    "    winner = player2\n",
    "    print(winner)\n",
    "elif player1 == \"P\" or player1 == \"p\" and player2 == \"R\" or player2 == \"r\":\n",
    "    winer = player1\n",
    "    print(winner)\n",
    "elif player1 == \"P\" or player1 == \"p\" and player2 == \"S\" or player2 == \"s\":\n",
    "    winner = player2\n",
    "    print(winner)\n",
    "elif player1 == \"S\" or player1 == \"s\" and player2 == \"P\" or player2 == \"p\":\n",
    "    winner = player1\n",
    "    print(winner)\n",
    "elif player1 == \"S\" or player1 == \"s\" and player2 == \"R\" or player2 == \"r\":\n",
    "    winner = player2\n",
    "    print(winner)\n",
    "elif player1 == \"R\" or player1 == \"r\" and player2 == \"S\" or player2 == \"s\":\n",
    "    winner = player1\n",
    "    print(winner)\n",
    "else:\n",
    "    print(\"Invalid input........\")"
   ]
  },
  {
   "cell_type": "code",
   "execution_count": null,
   "metadata": {},
   "outputs": [],
   "source": []
  }
 ],
 "metadata": {
  "kernelspec": {
   "display_name": "Python 3",
   "language": "python",
   "name": "python3"
  },
  "language_info": {
   "codemirror_mode": {
    "name": "ipython",
    "version": 3
   },
   "file_extension": ".py",
   "mimetype": "text/x-python",
   "name": "python",
   "nbconvert_exporter": "python",
   "pygments_lexer": "ipython3",
   "version": "3.8.3"
  }
 },
 "nbformat": 4,
 "nbformat_minor": 4
}
