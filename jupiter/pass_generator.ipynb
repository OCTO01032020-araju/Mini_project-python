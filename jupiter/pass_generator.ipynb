{
 "cells": [
  {
   "cell_type": "code",
   "execution_count": 33,
   "metadata": {},
   "outputs": [
    {
     "name": "stdout",
     "output_type": "stream",
     "text": [
      "character Array is = ['abcdefghijklmnopqrstuvwxyz', '0123456789', '!\"#$%&\\'()*+,-./:;<=>?@[\\\\]^_`{|}~']\n",
      "9loh7;9*\n",
      "9loh7;9*\n"
     ]
    }
   ],
   "source": [
    "import string\n",
    "import random\n",
    "\n",
    "class Password():\n",
    "    \n",
    "    def __init__(self,charset,length):\n",
    "        \n",
    "        self.charset = charset\n",
    "        self.length = length\n",
    "        self.char_array = []\n",
    "    \n",
    "    def get_charset(self):\n",
    "        \n",
    "        if('l' in self.charset):\n",
    "            self.char_array.append(string.ascii_lowercase)\n",
    "            \n",
    "        if('u' in self.charset):\n",
    "            self.char_array.append(string.ascii_uppercase)\n",
    "            \n",
    "        if('d' in self.charset):\n",
    "            self.char_array.append(string.digits)\n",
    "            \n",
    "        if('s' in self.charset):\n",
    "            self.char_array.append(string.punctuation)\n",
    "            \n",
    "    def get_array(self):\n",
    "        return self.char_array\n",
    "    \n",
    "    def generate_pass(self):\n",
    "        print(\"character Array is =\", self.char_array)\n",
    "        pass_word = []\n",
    "        \n",
    "        for i in range(0,self.length):\n",
    "            outer_ind = random.randrange(0,len(self.char_array))\n",
    "            #print(\"Outer Index\", outer_ind)\n",
    "            #print(\"choosed Char from Array\", self.char_array[outer_ind])\n",
    "            inner_ind = random.randrange(0,len(self.char_array[outer_ind]))\n",
    "            #print(\"Inner index \", inner_ind)\n",
    "            inner_in_val = self.char_array[outer_ind][inner_ind]\n",
    "            #print(\"Inner index value\", inner_in_val )\n",
    "            pass_word.append(inner_in_val)\n",
    "            \n",
    "        #print(\"Password Array\", pass_word)\n",
    "        pass_string = \"\".join(pass_word)\n",
    "        print(pass_string)\n",
    "        print(pass_string.capitalize())\n",
    "            \n",
    "   \n",
    "        \n",
    "password = Password('lsd',8)\n",
    "\n",
    "password.get_charset()\n",
    "password.generate_pass()"
   ]
  },
  {
   "cell_type": "code",
   "execution_count": null,
   "metadata": {},
   "outputs": [],
   "source": [
    "#from random_password_creator import Password\n",
    "import argparse\n",
    "\n",
    "args = argparse.ArgumentParser(\"Usage: python password_generator.py -c CHARSET -l LENGTH\")\n",
    "args.add_argument('charset')\n",
    "args.add_argument('-l','--length',default=8)\n",
    "options = args.parse_args()\n",
    "print(options.charset)\n",
    "print(options.length)\n",
    "\n",
    "password = Password(options.charset,int(options.length))\n",
    "password.set_the_charset()\n",
    "password.generate_password()\n",
    "print(\"The random password is:\",password.get_password())"
   ]
  }
 ],
 "metadata": {
  "kernelspec": {
   "display_name": "Python 3",
   "language": "python",
   "name": "python3"
  },
  "language_info": {
   "codemirror_mode": {
    "name": "ipython",
    "version": 3
   },
   "file_extension": ".py",
   "mimetype": "text/x-python",
   "name": "python",
   "nbconvert_exporter": "python",
   "pygments_lexer": "ipython3",
   "version": "3.8.3"
  }
 },
 "nbformat": 4,
 "nbformat_minor": 4
}
